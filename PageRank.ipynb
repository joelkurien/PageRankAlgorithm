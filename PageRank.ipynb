{
 "cells": [
  {
   "cell_type": "code",
   "execution_count": 1,
   "id": "27d6a3a5-78ec-4810-8a08-a53e7a87cf90",
   "metadata": {},
   "outputs": [],
   "source": [
    "import numpy as np\n",
    "import matplotlib.pyplot as plt\n",
    "import scipy"
   ]
  },
  {
   "cell_type": "markdown",
   "id": "997c3b03-22dc-495f-b7fd-9aef46110017",
   "metadata": {},
   "source": [
    "## PageRank Algorithm on a Simple Graph\n",
    "Here, I have attempted to implement the pageRank algorithm on a simple hardcoded graph. \n",
    "* Used to help me understand the working of the algorithm on a simpler dimension of data and solifying the mathematical foundation of PageRank\n",
    "  - Markov Process\n",
    "  - Importance of Damping Factor\n",
    "  - Graphs\n",
    "  - Linear Algebra"
   ]
  },
  {
   "cell_type": "code",
   "execution_count": 2,
   "id": "af23b189-95c1-429b-bcca-131cfa37edd2",
   "metadata": {},
   "outputs": [],
   "source": [
    "searchGraph = {\n",
    "    \"1\": [\"2\", '3'],\n",
    "    \"2\": ['4'],\n",
    "    \"3\": ['7', '6'],\n",
    "    '4': ['4', '5'],\n",
    "    '5': ['6'],\n",
    "    '6': ['6', '3'],\n",
    "    '7': ['7']\n",
    "}"
   ]
  },
  {
   "cell_type": "code",
   "execution_count": 3,
   "id": "5496c425-f95d-4d74-9897-d37cec599770",
   "metadata": {},
   "outputs": [],
   "source": [
    "n = len(searchGraph)\n",
    "PR_matrix = np.zeros((n,n))"
   ]
  },
  {
   "cell_type": "code",
   "execution_count": 4,
   "id": "93ec4bee-0d4c-4ab5-baaa-62328ac089cc",
   "metadata": {},
   "outputs": [
    {
     "data": {
      "text/plain": [
       "array([[0., 0., 0., 0., 0., 0., 0.],\n",
       "       [0., 0., 0., 0., 0., 0., 0.],\n",
       "       [0., 0., 0., 0., 0., 0., 0.],\n",
       "       [0., 0., 0., 0., 0., 0., 0.],\n",
       "       [0., 0., 0., 0., 0., 0., 0.],\n",
       "       [0., 0., 0., 0., 0., 0., 0.],\n",
       "       [0., 0., 0., 0., 0., 0., 0.]])"
      ]
     },
     "execution_count": 4,
     "metadata": {},
     "output_type": "execute_result"
    }
   ],
   "source": [
    "PR_matrix"
   ]
  },
  {
   "cell_type": "code",
   "execution_count": 5,
   "id": "5f1d3ae6-9893-4470-8af4-201007cf900f",
   "metadata": {},
   "outputs": [],
   "source": [
    "for node in searchGraph:\n",
    "    size = len(searchGraph[node])\n",
    "    point = int(node)\n",
    "    relationPoints = set([int(relation)-1 for relation in searchGraph[node]])\n",
    "    relationArray = PR_matrix[point-1]\n",
    "    #print(relationPoints)\n",
    "    for i in range(len(relationArray)):\n",
    "        if i in relationPoints:\n",
    "            PR_matrix[point-1, i] = 1/size"
   ]
  },
  {
   "cell_type": "code",
   "execution_count": 6,
   "id": "3b54cd71-7f8d-4205-83eb-905261307aa9",
   "metadata": {},
   "outputs": [
    {
     "data": {
      "text/plain": [
       "array([[0. , 0. , 0. , 0. , 0. , 0. , 0. ],\n",
       "       [0.5, 0. , 0. , 0. , 0. , 0. , 0. ],\n",
       "       [0.5, 0. , 0. , 0. , 0. , 0.5, 0. ],\n",
       "       [0. , 1. , 0. , 0.5, 0. , 0. , 0. ],\n",
       "       [0. , 0. , 0. , 0.5, 0. , 0. , 0. ],\n",
       "       [0. , 0. , 0.5, 0. , 1. , 0.5, 0. ],\n",
       "       [0. , 0. , 0.5, 0. , 0. , 0. , 1. ]])"
      ]
     },
     "execution_count": 6,
     "metadata": {},
     "output_type": "execute_result"
    }
   ],
   "source": [
    "linkMatrix = PR_matrix.T\n",
    "linkMatrix"
   ]
  },
  {
   "cell_type": "code",
   "execution_count": 7,
   "id": "928f6581-c291-474e-9b08-cde0b21011ea",
   "metadata": {},
   "outputs": [],
   "source": [
    "#damping link matrix\n",
    "damping_factor = 0.25\n",
    "linkMatrix = damping_factor * linkMatrix + (1-damping_factor)/len(searchGraph)\n",
    "linkMatrix = np.round(linkMatrix, 2)"
   ]
  },
  {
   "cell_type": "code",
   "execution_count": 8,
   "id": "053bdf64-0c18-4be8-a83d-1248f8f15d1b",
   "metadata": {},
   "outputs": [],
   "source": [
    "noOfLinks = len(searchGraph)\n",
    "r = [ 1/noOfLinks for i in range(noOfLinks)]\n",
    "nextR = linkMatrix * r\n",
    "zeroVec = np.zeros(noOfLinks)\n",
    "\n",
    "iter = 0\n",
    "while iter <= 100 :\n",
    "    nextR = np.dot(linkMatrix,r)\n",
    "    if (nextR - r == zeroVec).all():\n",
    "        break\n",
    "    r = nextR\n",
    "    iter += 1"
   ]
  },
  {
   "cell_type": "code",
   "execution_count": 9,
   "id": "97ab0719-020f-4032-ac49-9426f99c1c07",
   "metadata": {},
   "outputs": [
    {
     "data": {
      "text/plain": [
       "array([0.44822527, 0.50126202, 0.58812375, 0.64853088, 0.52496341,\n",
       "       0.73408757, 0.68722551])"
      ]
     },
     "execution_count": 9,
     "metadata": {},
     "output_type": "execute_result"
    }
   ],
   "source": [
    "r"
   ]
  },
  {
   "cell_type": "code",
   "execution_count": 10,
   "id": "9eaa0fdb-fc18-48ed-b5cd-ba7570b536d7",
   "metadata": {},
   "outputs": [
    {
     "data": {
      "text/plain": [
       "array([0.44822527, 0.50126202, 0.58812375, 0.64853088, 0.52496341,\n",
       "       0.73408757, 0.68722551])"
      ]
     },
     "execution_count": 10,
     "metadata": {},
     "output_type": "execute_result"
    }
   ],
   "source": [
    "nextR"
   ]
  },
  {
   "cell_type": "code",
   "execution_count": 11,
   "id": "0fe6fd77-efa3-42dc-8016-c3d1a4f789b9",
   "metadata": {},
   "outputs": [
    {
     "data": {
      "text/plain": [
       "101"
      ]
     },
     "execution_count": 11,
     "metadata": {},
     "output_type": "execute_result"
    }
   ],
   "source": [
    "iter"
   ]
  },
  {
   "cell_type": "markdown",
   "id": "30d3f82d-dc1b-4219-b213-26aa3ba6d8f7",
   "metadata": {},
   "source": [
    "## PageRank Algorithm on an actual dataset\n",
    "Here, I have implemented the pageRank algorithm on an actual dataset provided by Stanford on wikipedia pages and its links\n",
    "* Through this implementation I have understood how to work with cleaned data in Pandas\n",
    "* I have also understood at an intermediate level how a simple operation such as a Markov Process have a large impact on deciding what the user should be shown for a request\n",
    "* This project also catered in solidifying my understanding of Linear Algebra and its core concepts and programming concepts such as Numpy and Pandas"
   ]
  },
  {
   "cell_type": "code",
   "execution_count": 39,
   "id": "7d420d76-4b36-4561-8558-5db4a383223c",
   "metadata": {},
   "outputs": [],
   "source": [
    "import pandas as pd\n",
    "from dotenv import load_dotenv\n",
    "import os\n",
    "\n",
    "# Load environment variables from .env\n",
    "load_dotenv()\n",
    "\n",
    "# Access variables\n",
    "secret_key = os.getenv('DATASET_LOCATION')"
   ]
  },
  {
   "cell_type": "code",
   "execution_count": 13,
   "id": "4888cbba-d5e8-4196-82f5-4d38808345bc",
   "metadata": {},
   "outputs": [],
   "source": [
    "dataSet = secret_key\n",
    "df2 = pd.read_excel(dataSet, engine='odf')"
   ]
  },
  {
   "cell_type": "code",
   "execution_count": 14,
   "id": "c75fb154-6dba-420f-bdc3-ab2fa1f419a9",
   "metadata": {},
   "outputs": [
    {
     "data": {
      "text/html": [
       "<div>\n",
       "<style scoped>\n",
       "    .dataframe tbody tr th:only-of-type {\n",
       "        vertical-align: middle;\n",
       "    }\n",
       "\n",
       "    .dataframe tbody tr th {\n",
       "        vertical-align: top;\n",
       "    }\n",
       "\n",
       "    .dataframe thead th {\n",
       "        text-align: right;\n",
       "    }\n",
       "</style>\n",
       "<table border=\"1\" class=\"dataframe\">\n",
       "  <thead>\n",
       "    <tr style=\"text-align: right;\">\n",
       "      <th></th>\n",
       "      <th>Start Link</th>\n",
       "      <th>End Link</th>\n",
       "    </tr>\n",
       "  </thead>\n",
       "  <tbody>\n",
       "    <tr>\n",
       "      <th>0</th>\n",
       "      <td>%C3%81ed%C3%A1n_mac_Gabr%C3%A1in</td>\n",
       "      <td>Bede</td>\n",
       "    </tr>\n",
       "    <tr>\n",
       "      <th>1</th>\n",
       "      <td>%C3%81ed%C3%A1n_mac_Gabr%C3%A1in</td>\n",
       "      <td>Columba</td>\n",
       "    </tr>\n",
       "    <tr>\n",
       "      <th>2</th>\n",
       "      <td>%C3%81ed%C3%A1n_mac_Gabr%C3%A1in</td>\n",
       "      <td>D%C3%A1l_Riata</td>\n",
       "    </tr>\n",
       "    <tr>\n",
       "      <th>3</th>\n",
       "      <td>%C3%81ed%C3%A1n_mac_Gabr%C3%A1in</td>\n",
       "      <td>Great_Britain</td>\n",
       "    </tr>\n",
       "    <tr>\n",
       "      <th>4</th>\n",
       "      <td>%C3%81ed%C3%A1n_mac_Gabr%C3%A1in</td>\n",
       "      <td>Ireland</td>\n",
       "    </tr>\n",
       "    <tr>\n",
       "      <th>...</th>\n",
       "      <td>...</td>\n",
       "      <td>...</td>\n",
       "    </tr>\n",
       "    <tr>\n",
       "      <th>119877</th>\n",
       "      <td>Zulu</td>\n",
       "      <td>South_Africa</td>\n",
       "    </tr>\n",
       "    <tr>\n",
       "      <th>119878</th>\n",
       "      <td>Zulu</td>\n",
       "      <td>Swaziland</td>\n",
       "    </tr>\n",
       "    <tr>\n",
       "      <th>119879</th>\n",
       "      <td>Zulu</td>\n",
       "      <td>United_Kingdom</td>\n",
       "    </tr>\n",
       "    <tr>\n",
       "      <th>119880</th>\n",
       "      <td>Zulu</td>\n",
       "      <td>Zambia</td>\n",
       "    </tr>\n",
       "    <tr>\n",
       "      <th>119881</th>\n",
       "      <td>Zulu</td>\n",
       "      <td>Zimbabwe</td>\n",
       "    </tr>\n",
       "  </tbody>\n",
       "</table>\n",
       "<p>119882 rows × 2 columns</p>\n",
       "</div>"
      ],
      "text/plain": [
       "                              Start Link        End Link\n",
       "0       %C3%81ed%C3%A1n_mac_Gabr%C3%A1in            Bede\n",
       "1       %C3%81ed%C3%A1n_mac_Gabr%C3%A1in         Columba\n",
       "2       %C3%81ed%C3%A1n_mac_Gabr%C3%A1in  D%C3%A1l_Riata\n",
       "3       %C3%81ed%C3%A1n_mac_Gabr%C3%A1in   Great_Britain\n",
       "4       %C3%81ed%C3%A1n_mac_Gabr%C3%A1in         Ireland\n",
       "...                                  ...             ...\n",
       "119877                              Zulu    South_Africa\n",
       "119878                              Zulu       Swaziland\n",
       "119879                              Zulu  United_Kingdom\n",
       "119880                              Zulu          Zambia\n",
       "119881                              Zulu        Zimbabwe\n",
       "\n",
       "[119882 rows x 2 columns]"
      ]
     },
     "execution_count": 14,
     "metadata": {},
     "output_type": "execute_result"
    }
   ],
   "source": [
    "df2"
   ]
  },
  {
   "cell_type": "code",
   "execution_count": 15,
   "id": "5934ba8e-5641-4fc6-8e21-f241d5efea64",
   "metadata": {},
   "outputs": [],
   "source": [
    "import collections\n",
    "links = collections.defaultdict(list)\n",
    "for index, record in df2.iterrows():\n",
    "    links[record[\"Start Link\"]].append(record[\"End Link\"])"
   ]
  },
  {
   "cell_type": "code",
   "execution_count": 16,
   "id": "eb40fa58-bdb6-4f54-82da-f152f325a7b7",
   "metadata": {},
   "outputs": [],
   "source": [
    "noOfPoints = len(links)"
   ]
  },
  {
   "cell_type": "code",
   "execution_count": 17,
   "id": "f03a2020-f99c-4b50-8dab-41ebe4394112",
   "metadata": {},
   "outputs": [],
   "source": [
    "data = {f\"{link}\":[0.0]*noOfPoints for link in links}"
   ]
  },
  {
   "cell_type": "code",
   "execution_count": 18,
   "id": "6d5eef74-bc21-4771-b9e8-8ca21591cfcd",
   "metadata": {},
   "outputs": [],
   "source": [
    "linkDf = pd.DataFrame(data)"
   ]
  },
  {
   "cell_type": "code",
   "execution_count": 19,
   "id": "11f7670c-0de0-4b95-9fc1-88f946f43499",
   "metadata": {},
   "outputs": [],
   "source": [
    "linkDfColumns = linkDf.columns.tolist()"
   ]
  },
  {
   "cell_type": "code",
   "execution_count": 20,
   "id": "822ff803-4b7c-4204-b921-b14895929fa0",
   "metadata": {},
   "outputs": [],
   "source": [
    "linkDf = linkDf.rename(index={i: linkDfColumns[i] for i in range(len(linkDfColumns))})"
   ]
  },
  {
   "cell_type": "code",
   "execution_count": 21,
   "id": "f0d01415-c54c-482e-abea-3aeeff32d4ed",
   "metadata": {},
   "outputs": [],
   "source": [
    "for link in links:\n",
    "    for node in links[link]:\n",
    "        linkDf.at[link, node] = 1/len(links[link])"
   ]
  },
  {
   "cell_type": "code",
   "execution_count": 22,
   "id": "73b2c25a-8a84-4716-b697-14d84265d84f",
   "metadata": {},
   "outputs": [],
   "source": [
    "linkMatrix = linkDf.to_numpy()"
   ]
  },
  {
   "cell_type": "code",
   "execution_count": 23,
   "id": "b9f14594-c535-4868-8f4a-b91d413508fb",
   "metadata": {},
   "outputs": [],
   "source": [
    "M,N = linkMatrix.shape\n",
    "diff = abs(M-N)\n",
    "\n",
    "extraRows = np.array([[0]*N]*diff)"
   ]
  },
  {
   "cell_type": "code",
   "execution_count": 24,
   "id": "da31474e-7b8a-4a6f-b8ca-20e66b485179",
   "metadata": {},
   "outputs": [],
   "source": [
    "lM = np.vstack([linkMatrix, extraRows])"
   ]
  },
  {
   "cell_type": "code",
   "execution_count": 25,
   "id": "ae4c412d-91ff-495d-8209-aafbf3164e3b",
   "metadata": {},
   "outputs": [],
   "source": [
    "lM = np.nan_to_num(lM, nan=0)"
   ]
  },
  {
   "cell_type": "code",
   "execution_count": 26,
   "id": "49e97282-d30e-4a55-915c-b1ad8c8a8bb8",
   "metadata": {},
   "outputs": [],
   "source": [
    "lM = lM.T\n",
    "ROW, COL = lM.shape"
   ]
  },
  {
   "cell_type": "code",
   "execution_count": 27,
   "id": "274ae25b-5edb-4f7d-b43b-5b3d7ee7b604",
   "metadata": {},
   "outputs": [],
   "source": [
    "#damping link matrix\n",
    "damping_factor = 0.5\n",
    "linkMatrix = damping_factor * lM + (1-damping_factor)/ROW\n",
    "linkMatrix = np.round(linkMatrix, 5)"
   ]
  },
  {
   "cell_type": "code",
   "execution_count": 28,
   "id": "51af0d7d-30bf-4424-9ba3-285cfc7c4eb0",
   "metadata": {},
   "outputs": [
    {
     "data": {
      "text/plain": [
       "array([[0.00011, 0.00011, 0.00011, ..., 0.00011, 0.00011, 0.00011],\n",
       "       [0.00011, 0.00011, 0.00011, ..., 0.00011, 0.00011, 0.00011],\n",
       "       [0.00011, 0.00011, 0.00011, ..., 0.00011, 0.00011, 0.00011],\n",
       "       ...,\n",
       "       [0.00011, 0.00011, 0.00011, ..., 0.00011, 0.00011, 0.00011],\n",
       "       [0.00011, 0.00011, 0.00011, ..., 0.00011, 0.00011, 0.00011],\n",
       "       [0.00011, 0.00011, 0.00011, ..., 0.00011, 0.00011, 0.00011]])"
      ]
     },
     "execution_count": 28,
     "metadata": {},
     "output_type": "execute_result"
    }
   ],
   "source": [
    "linkMatrix"
   ]
  },
  {
   "cell_type": "code",
   "execution_count": 29,
   "id": "9b7b3e9f-4957-4547-a488-36b742870a41",
   "metadata": {},
   "outputs": [],
   "source": [
    "#Page Rank algorithm\n",
    "M,N = linkMatrix.shape\n",
    "r = [ 1/M for i in range(M)]\n",
    "nextR = linkMatrix * r\n",
    "zeroVec = np.zeros(M)\n",
    "\n",
    "iter = 0\n",
    "while iter <= 1000 :\n",
    "    nextR = np.dot(linkMatrix,r)\n",
    "    if (nextR - r == zeroVec).all():\n",
    "        break\n",
    "    r = nextR\n",
    "    iter += 1"
   ]
  },
  {
   "cell_type": "code",
   "execution_count": 30,
   "id": "cc9f8340-3b9b-42d3-a62f-1e0459a5adc8",
   "metadata": {},
   "outputs": [],
   "source": [
    "probsCols = linkDf.columns.tolist()"
   ]
  },
  {
   "cell_type": "code",
   "execution_count": 31,
   "id": "3f990d5c-f6de-4b4e-8c9c-455487227351",
   "metadata": {},
   "outputs": [],
   "source": [
    "probs = pd.Series(r, name='Relative Probability')"
   ]
  },
  {
   "cell_type": "code",
   "execution_count": 32,
   "id": "6a1db7e8-3892-4b54-b9b5-7d2f537d8f9a",
   "metadata": {},
   "outputs": [],
   "source": [
    "probs = probs.rename(index={i: probsCols[i] for i in range(len(probsCols))})"
   ]
  },
  {
   "cell_type": "code",
   "execution_count": 33,
   "id": "dec114ce-7ded-401f-973e-a5291f40e372",
   "metadata": {},
   "outputs": [],
   "source": [
    "ranked_data = probs.sort_values(ascending=False)"
   ]
  },
  {
   "cell_type": "code",
   "execution_count": 34,
   "id": "6996403e-04e2-4cf5-9436-05c7d0761ac8",
   "metadata": {},
   "outputs": [],
   "source": [
    "ranked_data = pd.DataFrame(ranked_data)"
   ]
  },
  {
   "cell_type": "code",
   "execution_count": 35,
   "id": "f17fe7d1-3804-4fd7-b601-2a8f3216c329",
   "metadata": {},
   "outputs": [],
   "source": [
    "ranked_data = ranked_data.reset_index()"
   ]
  },
  {
   "cell_type": "code",
   "execution_count": 36,
   "id": "52f89034-16df-4914-a0d5-277f0f58bdc7",
   "metadata": {},
   "outputs": [],
   "source": [
    "ranked_data.columns = ['Source', ranked_data.columns[-1]]"
   ]
  },
  {
   "cell_type": "code",
   "execution_count": 37,
   "id": "138a1667-78e9-4e1e-af4f-482068e7992e",
   "metadata": {},
   "outputs": [
    {
     "data": {
      "text/html": [
       "<div>\n",
       "<style scoped>\n",
       "    .dataframe tbody tr th:only-of-type {\n",
       "        vertical-align: middle;\n",
       "    }\n",
       "\n",
       "    .dataframe tbody tr th {\n",
       "        vertical-align: top;\n",
       "    }\n",
       "\n",
       "    .dataframe thead th {\n",
       "        text-align: right;\n",
       "    }\n",
       "</style>\n",
       "<table border=\"1\" class=\"dataframe\">\n",
       "  <thead>\n",
       "    <tr style=\"text-align: right;\">\n",
       "      <th></th>\n",
       "      <th>Source</th>\n",
       "      <th>Relative Probability</th>\n",
       "    </tr>\n",
       "  </thead>\n",
       "  <tbody>\n",
       "    <tr>\n",
       "      <th>0</th>\n",
       "      <td>United_States</td>\n",
       "      <td>0.791757</td>\n",
       "    </tr>\n",
       "    <tr>\n",
       "      <th>1</th>\n",
       "      <td>United_Kingdom</td>\n",
       "      <td>0.467106</td>\n",
       "    </tr>\n",
       "    <tr>\n",
       "      <th>2</th>\n",
       "      <td>Europe</td>\n",
       "      <td>0.451464</td>\n",
       "    </tr>\n",
       "    <tr>\n",
       "      <th>3</th>\n",
       "      <td>France</td>\n",
       "      <td>0.442236</td>\n",
       "    </tr>\n",
       "    <tr>\n",
       "      <th>4</th>\n",
       "      <td>England</td>\n",
       "      <td>0.380710</td>\n",
       "    </tr>\n",
       "    <tr>\n",
       "      <th>...</th>\n",
       "      <td>...</td>\n",
       "      <td>...</td>\n",
       "    </tr>\n",
       "    <tr>\n",
       "      <th>4587</th>\n",
       "      <td>Hiroh_Kikai</td>\n",
       "      <td>0.012557</td>\n",
       "    </tr>\n",
       "    <tr>\n",
       "      <th>4588</th>\n",
       "      <td>History_of_Burnside</td>\n",
       "      <td>0.012557</td>\n",
       "    </tr>\n",
       "    <tr>\n",
       "      <th>4589</th>\n",
       "      <td>Raising_the_Flag_on_Iwo_Jima</td>\n",
       "      <td>0.012557</td>\n",
       "    </tr>\n",
       "    <tr>\n",
       "      <th>4590</th>\n",
       "      <td>Sydney_Riot_of_1879</td>\n",
       "      <td>0.012557</td>\n",
       "    </tr>\n",
       "    <tr>\n",
       "      <th>4591</th>\n",
       "      <td>%C3%81ed%C3%A1n_mac_Gabr%C3%A1in</td>\n",
       "      <td>0.012557</td>\n",
       "    </tr>\n",
       "  </tbody>\n",
       "</table>\n",
       "<p>4592 rows × 2 columns</p>\n",
       "</div>"
      ],
      "text/plain": [
       "                                Source  Relative Probability\n",
       "0                        United_States              0.791757\n",
       "1                       United_Kingdom              0.467106\n",
       "2                               Europe              0.451464\n",
       "3                               France              0.442236\n",
       "4                              England              0.380710\n",
       "...                                ...                   ...\n",
       "4587                       Hiroh_Kikai              0.012557\n",
       "4588               History_of_Burnside              0.012557\n",
       "4589      Raising_the_Flag_on_Iwo_Jima              0.012557\n",
       "4590               Sydney_Riot_of_1879              0.012557\n",
       "4591  %C3%81ed%C3%A1n_mac_Gabr%C3%A1in              0.012557\n",
       "\n",
       "[4592 rows x 2 columns]"
      ]
     },
     "execution_count": 37,
     "metadata": {},
     "output_type": "execute_result"
    }
   ],
   "source": [
    "ranked_data"
   ]
  },
  {
   "cell_type": "code",
   "execution_count": 38,
   "id": "3541eddb-8a01-41ee-b2c9-4a9138146311",
   "metadata": {},
   "outputs": [
    {
     "data": {
      "text/html": [
       "<div>\n",
       "<style scoped>\n",
       "    .dataframe tbody tr th:only-of-type {\n",
       "        vertical-align: middle;\n",
       "    }\n",
       "\n",
       "    .dataframe tbody tr th {\n",
       "        vertical-align: top;\n",
       "    }\n",
       "\n",
       "    .dataframe thead th {\n",
       "        text-align: right;\n",
       "    }\n",
       "</style>\n",
       "<table border=\"1\" class=\"dataframe\">\n",
       "  <thead>\n",
       "    <tr style=\"text-align: right;\">\n",
       "      <th></th>\n",
       "      <th>Source</th>\n",
       "      <th>Relative Probability</th>\n",
       "    </tr>\n",
       "  </thead>\n",
       "  <tbody>\n",
       "    <tr>\n",
       "      <th>52</th>\n",
       "      <td>California</td>\n",
       "      <td>0.134917</td>\n",
       "    </tr>\n",
       "  </tbody>\n",
       "</table>\n",
       "</div>"
      ],
      "text/plain": [
       "        Source  Relative Probability\n",
       "52  California              0.134917"
      ]
     },
     "execution_count": 38,
     "metadata": {},
     "output_type": "execute_result"
    }
   ],
   "source": [
    "ranked_data[ranked_data['Source'] == 'California']"
   ]
  },
  {
   "cell_type": "code",
   "execution_count": null,
   "id": "bbc14be1-fa34-449b-ac21-ae224cd47ba3",
   "metadata": {},
   "outputs": [],
   "source": []
  }
 ],
 "metadata": {
  "kernelspec": {
   "display_name": "Python 3 (ipykernel)",
   "language": "python",
   "name": "python3"
  },
  "language_info": {
   "codemirror_mode": {
    "name": "ipython",
    "version": 3
   },
   "file_extension": ".py",
   "mimetype": "text/x-python",
   "name": "python",
   "nbconvert_exporter": "python",
   "pygments_lexer": "ipython3",
   "version": "3.12.0"
  }
 },
 "nbformat": 4,
 "nbformat_minor": 5
}
